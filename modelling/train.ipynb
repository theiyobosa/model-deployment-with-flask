{
 "cells": [
  {
   "cell_type": "code",
   "execution_count": 8,
   "source": [
    "import random\r\n",
    "\r\n",
    "import numpy as np\r\n",
    "\r\n",
    "from sklearn.linear_model import LinearRegression\r\n",
    "from sklearn.model_selection import train_test_split\r\n",
    "\r\n",
    "from joblib import dump"
   ],
   "outputs": [],
   "metadata": {}
  },
  {
   "cell_type": "code",
   "execution_count": 3,
   "source": [
    "# Create dataset\r\n",
    "\r\n",
    "# X and y will have an approximate relationship of: y = 3 * X + 2\r\n",
    "\r\n",
    "n_samples = 100\r\n",
    "\r\n",
    "# Create linear inputs and adding random noise\r\n",
    "X = [i + random.random()/10 for i in range(n_samples)]\r\n",
    "\r\n",
    "X = np.array(X).reshape((n_samples, 1))\r\n",
    "\r\n",
    "# Create target values and adding random noise\r\n",
    "y = [3 * (i + random.random()/10) + 2 + random.random()/10 \\\r\n",
    "                                 for i in range(n_samples)]\r\n",
    "\r\n",
    "y = np.array(y)"
   ],
   "outputs": [],
   "metadata": {}
  },
  {
   "cell_type": "code",
   "execution_count": 4,
   "source": [
    "# Split dataset\r\n",
    "\r\n",
    "X_train, X_test, y_train, y_test = train_test_split(X, y, test_size=0.2)"
   ],
   "outputs": [],
   "metadata": {}
  },
  {
   "cell_type": "code",
   "execution_count": 5,
   "source": [
    "# Modelling\r\n",
    "\r\n",
    "model = LinearRegression()\r\n",
    "\r\n",
    "model.fit(X_train, y_train)"
   ],
   "outputs": [
    {
     "output_type": "execute_result",
     "data": {
      "text/plain": [
       "LinearRegression()"
      ]
     },
     "metadata": {},
     "execution_count": 5
    }
   ],
   "metadata": {}
  },
  {
   "cell_type": "code",
   "execution_count": 6,
   "source": [
    "# Model evaluation\r\n",
    "\r\n",
    "model.score(X_test, y_test)"
   ],
   "outputs": [
    {
     "output_type": "execute_result",
     "data": {
      "text/plain": [
       "0.9999985544450456"
      ]
     },
     "metadata": {},
     "execution_count": 6
    }
   ],
   "metadata": {}
  },
  {
   "cell_type": "code",
   "execution_count": 7,
   "source": [
    "# Save model\r\n",
    "\r\n",
    "dump(model, 'model.joblib')"
   ],
   "outputs": [
    {
     "output_type": "execute_result",
     "data": {
      "text/plain": [
       "b'\\x80\\x04\\x95\\xc5\\x01\\x00\\x00\\x00\\x00\\x00\\x00\\x8c\\x1asklearn.linear_model._base\\x94\\x8c\\x10LinearRegression\\x94\\x93\\x94)\\x81\\x94}\\x94(\\x8c\\rfit_intercept\\x94\\x88\\x8c\\tnormalize\\x94\\x89\\x8c\\x06copy_X\\x94\\x88\\x8c\\x06n_jobs\\x94N\\x8c\\x08positive\\x94\\x89\\x8c\\x0en_features_in_\\x94K\\x01\\x8c\\x05coef_\\x94\\x8c\\x15numpy.core.multiarray\\x94\\x8c\\x0c_reconstruct\\x94\\x93\\x94\\x8c\\x05numpy\\x94\\x8c\\x07ndarray\\x94\\x93\\x94K\\x00\\x85\\x94C\\x01b\\x94\\x87\\x94R\\x94(K\\x01K\\x01\\x85\\x94h\\x0f\\x8c\\x05dtype\\x94\\x93\\x94\\x8c\\x02f8\\x94\\x89\\x88\\x87\\x94R\\x94(K\\x03\\x8c\\x01<\\x94NNNJ\\xff\\xff\\xff\\xffJ\\xff\\xff\\xff\\xffK\\x00t\\x94b\\x89C\\x080qf,\\xe9\\x00\\x08@\\x94t\\x94b\\x8c\\t_residues\\x94h\\x0c\\x8c\\x06scalar\\x94\\x93\\x94h\\x1bC\\x08z\\x82\\x92r\\xfb\\xec\\xf6?\\x94\\x86\\x94R\\x94\\x8c\\x05rank_\\x94K\\x01\\x8c\\tsingular_\\x94h\\x0eh\\x11K\\x00\\x85\\x94h\\x13\\x87\\x94R\\x94(K\\x01K\\x01\\x85\\x94h\\x1b\\x89C\\x08}y\\xdd\\xa8;_n@\\x94t\\x94b\\x8c\\nintercept_\\x94h\"h\\x1bC\\x08\\x00\\xa6\\xdb5\\xc5%\\x00@\\x94\\x86\\x94R\\x94\\x8c\\x10_sklearn_version\\x94\\x8c\\x060.24.1\\x94ub.'"
      ]
     },
     "metadata": {},
     "execution_count": 7
    }
   ],
   "metadata": {}
  }
 ],
 "metadata": {
  "orig_nbformat": 4,
  "language_info": {
   "name": "python",
   "version": "3.9.4",
   "mimetype": "text/x-python",
   "codemirror_mode": {
    "name": "ipython",
    "version": 3
   },
   "pygments_lexer": "ipython3",
   "nbconvert_exporter": "python",
   "file_extension": ".py"
  },
  "kernelspec": {
   "name": "python3",
   "display_name": "Python 3.9.4 64-bit"
  },
  "interpreter": {
   "hash": "6aa4c2df6af3f5cdb122606a72f9d7aad1b6f92fd3d6c2d8cab3f04842a3403f"
  }
 },
 "nbformat": 4,
 "nbformat_minor": 2
}